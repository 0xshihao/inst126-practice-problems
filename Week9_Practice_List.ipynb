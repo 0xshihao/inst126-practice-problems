{
 "cells": [
  {
   "cell_type": "markdown",
   "id": "ef5af528-bf0f-4457-8b2a-19ac179d254f",
   "metadata": {},
   "source": [
    "Practice Work: Python List Methods"
   ]
  },
  {
   "cell_type": "markdown",
   "id": "7883242d-bf31-40b5-a22c-8d75160d046c",
   "metadata": {},
   "source": [
    "Exercise 1: Adding Elements\n",
    "Task: Create a list called fruits with the items \"apple\", \"banana\", and \"orange\". Then:\n",
    "Use append() to add \"grape\" to the end of the list.\n",
    "Use insert() to add \"mango\" at index 1.\n",
    "Print the updated list.\n"
   ]
  },
  {
   "cell_type": "markdown",
   "id": "755fa76b-f3f0-48ee-91da-b8a6acecbacf",
   "metadata": {},
   "source": [
    "Exercise 2: Combining Lists\n",
    "Task: Create two lists: list1 = [1, 2, 3] and list2 = [4, 5, 6]. Then:\n",
    "Use extend() to add all elements of list2 to list1.\n",
    "Print list1 to show the result.\n"
   ]
  },
  {
   "cell_type": "markdown",
   "id": "07c9ba44-54c1-49f3-9ed0-273d8f666571",
   "metadata": {},
   "source": [
    "Exercise 3: Removing Elements\n",
    "Task: Start with the list numbers = [10, 20, 30, 40, 50]. Then:\n",
    "Use remove() to delete 30 from the list.\n",
    "Use pop() to remove and print the last element.\n",
    "Print the updated list.\n"
   ]
  },
  {
   "cell_type": "markdown",
   "id": "203883f1-b12c-4e5b-8b8c-e11ae378ff13",
   "metadata": {},
   "source": [
    "Exercise 4: Counting and Finding\n",
    "Task: Create a list colors = [\"red\", \"blue\", \"red\", \"green\", \"blue\", \"red\"]. Then:\n",
    "Use count() to find how many times \"red\" appears in the list.\n",
    "Use index() to find the first occurrence of \"blue\".\n",
    "Print both results.\n"
   ]
  },
  {
   "cell_type": "markdown",
   "id": "650c63e1-e721-4473-995a-231fdb644e24",
   "metadata": {},
   "source": [
    "Exercise 5: Sorting and Reversing\n",
    "Task: Create a list scores = [85, 92, 78, 95, 88]. Then:\n",
    "Use sort() to arrange the list in ascending order.\n",
    "Print the sorted list.\n",
    "Use reverse() to reverse the order of the list.\n",
    "Print the reversed list.\n"
   ]
  },
  {
   "cell_type": "markdown",
   "id": "176cf601-d72b-47cb-8110-36d4e3d075f2",
   "metadata": {},
   "source": [
    "Exercise 6: Clearing a List\n",
    "Task: Create a list tasks = [\"homework\", \"exercise\", \"read\"]. Then:\n",
    "Use clear() to remove all elements from the list.\n",
    "Print the list to confirm it’s empty.\n"
   ]
  },
  {
   "cell_type": "markdown",
   "id": "68089a91-e546-4c6d-8d9d-f218fe1a34f5",
   "metadata": {},
   "source": [
    "Exercise 7: Putting It All Together\n",
    "Task: Write a small program that:\n",
    "Starts with an empty list called inventory.\n",
    "Adds \"sword\", \"shield\", and \"potion\" using append().\n",
    "Inserts \"armor\" at index 1 using insert().\n",
    "Removes \"potion\" using remove().\n",
    "Prints how many times \"sword\" appears using count().\n",
    "Sorts the list using sort().\n",
    "Prints the final list.\n"
   ]
  },
  {
   "cell_type": "code",
   "execution_count": null,
   "id": "2cb09d39-20c2-4e13-ac6e-dc9dc4789b65",
   "metadata": {},
   "outputs": [],
   "source": [
    "Exercise 8: Practical Application\n",
    "Task: Write a small program that:\n",
    "Starts with an empty list called temperatures.\n",
    "Uses append() to add five temperature readings (e.g., 25, 18, 30, 22, 27).\n",
    "Finds the highest temperature using max() and the lowest using min().\n",
    "Prints a message like: \"The highest temperature was X and the lowest was Y.\"\n",
    "Uses sort() to display the temperatures in ascending order."
   ]
  }
 ],
 "metadata": {
  "kernelspec": {
   "display_name": "Python (xeus-python)",
   "language": "python",
   "name": "xpython"
  },
  "language_info": {
   "codemirror_mode": {
    "name": "ipython",
    "version": 3
   },
   "file_extension": ".py",
   "mimetype": "text/x-python",
   "name": "python",
   "nbconvert_exporter": "python",
   "pygments_lexer": "ipython3",
   "version": "3.12.7"
  }
 },
 "nbformat": 4,
 "nbformat_minor": 5
}
